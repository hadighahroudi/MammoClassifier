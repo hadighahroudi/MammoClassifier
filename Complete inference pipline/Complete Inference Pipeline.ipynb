{
 "cells": [
  {
   "cell_type": "code",
   "execution_count": 1,
   "id": "e54ad11e",
   "metadata": {},
   "outputs": [
    {
     "name": "stderr",
     "output_type": "stream",
     "text": [
      "D:\\ProgramFiles\\anaconda3\\envs\\pytorch_env\\lib\\site-packages\\tqdm\\auto.py:21: TqdmWarning: IProgress not found. Please update jupyter and ipywidgets. See https://ipywidgets.readthedocs.io/en/stable/user_install.html\n",
      "  from .autonotebook import tqdm as notebook_tqdm\n"
     ]
    }
   ],
   "source": [
    "from pipeline_utils import create_convnextv2_base, remove_pect_muscle, prep_convnextv2_for_gradcam,\\\n",
    "    predict, grad_cam_plusplus, get_org_cc_mlo_maps\n",
    "import cv2\n",
    "from UNet3Plus import ResNet101UNet3Plus\n",
    "import torch\n",
    "from torchvision.transforms import v2\n",
    "import argparse"
   ]
  },
  {
   "cell_type": "code",
   "execution_count": 2,
   "id": "1c4e8394",
   "metadata": {},
   "outputs": [],
   "source": [
    "device = torch.device(\"cuda\" if torch.cuda.is_available() else \"cpu\")"
   ]
  },
  {
   "cell_type": "code",
   "execution_count": 3,
   "id": "26363bf1",
   "metadata": {},
   "outputs": [],
   "source": [
    "SEGMENTOR_PATH = r\"D:\\Study\\Proposal\\Breast cancer(v2)\\MammoClassifier\\checkpoints\\last_resnet101_unet3-inbreast_mias-breast_roi-adam-no_cls_guide-no_mixup-elastic_flip-output_resized-bs8_e100.pt\"\n",
    "CLASSIFIER_PATH = r\"D:\\Study\\Proposal\\Breast cancer(v2)\\MammoClassifier\\checkpoints\\convnextv2_base-AdamW-up_sample-pos_smooth-mixup-cmmd_vindr-VOILUT_Flipped_pect_imgs-bs8x8-s0_e36_seed0.pt\" "
   ]
  },
  {
   "cell_type": "code",
   "execution_count": 4,
   "id": "39c32aed",
   "metadata": {},
   "outputs": [
    {
     "name": "stderr",
     "output_type": "stream",
     "text": [
      "C:\\Users\\mohammadhadi\\AppData\\Local\\Temp\\ipykernel_16316\\984469200.py:6: FutureWarning: You are using `torch.load` with `weights_only=False` (the current default value), which uses the default pickle module implicitly. It is possible to construct malicious pickle data which will execute arbitrary code during unpickling (See https://github.com/pytorch/pytorch/blob/main/SECURITY.md#untrusted-models for more details). In a future release, the default value for `weights_only` will be flipped to `True`. This limits the functions that could be executed during unpickling. Arbitrary objects will no longer be allowed to be loaded via this mode unless they are explicitly allowlisted by the user via `torch.serialization.add_safe_globals`. We recommend you start setting `weights_only=True` for any use case where you don't have full control of the loaded file. Please open an issue on GitHub for any issues related to this experimental feature.\n",
      "  segmentor_model.load_state_dict(torch.load(SEGMENTOR_PATH, map_location=device))\n"
     ]
    },
    {
     "data": {
      "text/plain": [
       "<All keys matched successfully>"
      ]
     },
     "execution_count": 4,
     "metadata": {},
     "output_type": "execute_result"
    }
   ],
   "source": [
    "segmentor_model = ResNet101UNet3Plus(num_classes = 2,\n",
    "                   resnet_weights = None,\n",
    "                   class_guided = False,\n",
    "                   is_batchnorm = True,\n",
    "                   output_size = (512, 512)).to(device)\n",
    "segmentor_model.load_state_dict(torch.load(SEGMENTOR_PATH, map_location=device))"
   ]
  },
  {
   "cell_type": "code",
   "execution_count": 5,
   "id": "98eb09a1",
   "metadata": {},
   "outputs": [
    {
     "name": "stderr",
     "output_type": "stream",
     "text": [
      "D:\\Study\\Proposal\\Breast cancer(v2)\\MammoClassifier\\Complete inference pipline\\pipeline_utils.py:54: FutureWarning: You are using `torch.load` with `weights_only=False` (the current default value), which uses the default pickle module implicitly. It is possible to construct malicious pickle data which will execute arbitrary code during unpickling (See https://github.com/pytorch/pytorch/blob/main/SECURITY.md#untrusted-models for more details). In a future release, the default value for `weights_only` will be flipped to `True`. This limits the functions that could be executed during unpickling. Arbitrary objects will no longer be allowed to be loaded via this mode unless they are explicitly allowlisted by the user via `torch.serialization.add_safe_globals`. We recommend you start setting `weights_only=True` for any use case where you don't have full control of the loaded file. Please open an issue on GitHub for any issues related to this experimental feature.\n",
      "  checkpoint = torch.load(checkpoint_path, map_location=device)\n"
     ]
    },
    {
     "name": "stdout",
     "output_type": "stream",
     "text": [
      "Loading D:\\Study\\Proposal\\Breast cancer(v2)\\MammoClassifier\\checkpoints\\convnextv2_base-AdamW-up_sample-pos_smooth-mixup-cmmd_vindr-VOILUT_Flipped_pect_imgs-bs8x8-s0_e36_seed0.pt\n",
      "<All keys matched successfully>\n"
     ]
    }
   ],
   "source": [
    "classifier_model = create_convnextv2_base(device, CLASSIFIER_PATH)\n",
    "classifier_model = prep_convnextv2_for_gradcam(classifier_model)"
   ]
  },
  {
   "cell_type": "code",
   "execution_count": 6,
   "id": "529c20a3",
   "metadata": {},
   "outputs": [],
   "source": [
    "segmentor_transform = v2.Compose([\n",
    "    v2.ToImage(),\n",
    "    v2.Resize(size = (512, 512), antialias = True),\n",
    "    v2.ToDtype(torch.float32, scale = True)\n",
    "    ])\n",
    "\n",
    "resize_to_org = v2.Resize((1024, 512), antialias = True)\n",
    "\n",
    "classifier_transform = v2.Compose([\n",
    "    v2.ToImage(),\n",
    "    v2.ToDtype(torch.float32, scale=True),\n",
    "    v2.Normalize([0.20275, 0.20275, 0.20275],\n",
    "                [0.19875, 0.19875, 0.19875])])"
   ]
  },
  {
   "cell_type": "code",
   "execution_count": 24,
   "id": "7d14e7e1",
   "metadata": {},
   "outputs": [],
   "source": [
    "for param in classifier_model.stem.parameters():\n",
    "    param.requires_grad = True\n",
    "    \n",
    "for param in classifier_model.stages.parameters():\n",
    "    param.requires_grad = True\n",
    "    \n",
    "for param in classifier_model.norm_pre.parameters():\n",
    "    param.requires_grad = True\n",
    "    \n",
    "for param in classifier_model.head.parameters():\n",
    "    param.requires_grad = True"
   ]
  },
  {
   "cell_type": "code",
   "execution_count": 8,
   "id": "c9917cf7",
   "metadata": {},
   "outputs": [],
   "source": [
    "cc_path = \"D:/Study/Proposal/Breast cancer(v2)/MammoClassifier/MammoClassifier.Web/wwwroot/studies/images/8684388/I0000000.dcm\"\n",
    "mlo_path = \"D:/Study/Proposal/Breast cancer(v2)/MammoClassifier/MammoClassifier.Web/wwwroot/studies/images/8684388/I0000002.dcm\"\n",
    "output_cc_path = \"cc_map.png\"\n",
    "output_mlo_path = \"mlo_map.png\""
   ]
  },
  {
   "cell_type": "code",
   "execution_count": 9,
   "id": "42f8dcc0",
   "metadata": {},
   "outputs": [],
   "source": [
    "mlo_roi, mlo_bbox, mlo_org_shape = remove_pect_muscle(mlo_path, segmentor_transform, resize_to_org, segmentor_model, device)\n"
   ]
  },
  {
   "cell_type": "code",
   "execution_count": 34,
   "id": "36d0a2f3",
   "metadata": {},
   "outputs": [],
   "source": [
    "logits, probs, cc_mlo_img_org, cc_mlo_img, cc_bbox, cc_org_shape = predict(cc_path, mlo_roi, classifier_model, device, classifier_transform)\n"
   ]
  },
  {
   "cell_type": "code",
   "execution_count": 15,
   "id": "00b12eb9",
   "metadata": {},
   "outputs": [],
   "source": [
    "from time import time"
   ]
  },
  {
   "cell_type": "code",
   "execution_count": 26,
   "id": "f7b00d1b",
   "metadata": {},
   "outputs": [
    {
     "name": "stdout",
     "output_type": "stream",
     "text": [
      "backward pass with all requires grad True elapsed time: 189.2937150001526s\n"
     ]
    }
   ],
   "source": [
    "t1=time()\n",
    "logits[:, logits.argmax()].backward()\n",
    "t2=time()\n",
    "\n",
    "print(f\"backward pass with all requires grad True elapsed time: {t2-t1}s\")"
   ]
  },
  {
   "cell_type": "code",
   "execution_count": 35,
   "id": "a23208b4",
   "metadata": {},
   "outputs": [
    {
     "name": "stdout",
     "output_type": "stream",
     "text": [
      "GradCAM elapsed time: 485.30234694480896\n"
     ]
    }
   ],
   "source": [
    "t1 = time()\n",
    "image_with_map, heatmap = grad_cam_plusplus(logits, classifier_model, cc_mlo_img_org, cc_mlo_img, device)\n",
    "t2 = time()\n",
    "\n",
    "print(f\"GradCAM elapsed time: {t2-t1}\")"
   ]
  },
  {
   "cell_type": "code",
   "execution_count": null,
   "id": "1d7c39ca",
   "metadata": {},
   "outputs": [],
   "source": [
    "cc_map, mlo_map = get_org_cc_mlo_maps(heatmap, cc_bbox, mlo_bbox, cc_org_shape, mlo_org_shape)\n",
    "\n",
    "cv2.imwrite(output_cc_path, cv2.cvtColor(cc_map, cv2.COLOR_RGB2BGR))\n",
    "cv2.imwrite(output_mlo_path, cv2.cvtColor(mlo_map, cv2.COLOR_RGB2BGR))\n",
    "# cv2.imwrite(args.output_path, cv2.cvtColor(heatmap, cv2.COLOR_RGB2BGR))\n",
    "\n",
    "print(f\"Logits: {logits}, Probs: {probs}\")\n",
    "print(f\"Ouput images saved to {output_cc_path}, {output_mlo_path}\")\n"
   ]
  },
  {
   "cell_type": "code",
   "execution_count": null,
   "id": "9b0448fc",
   "metadata": {},
   "outputs": [],
   "source": []
  }
 ],
 "metadata": {
  "kernelspec": {
   "display_name": "pytorch_env",
   "language": "python",
   "name": "pytorch_env"
  },
  "language_info": {
   "codemirror_mode": {
    "name": "ipython",
    "version": 3
   },
   "file_extension": ".py",
   "mimetype": "text/x-python",
   "name": "python",
   "nbconvert_exporter": "python",
   "pygments_lexer": "ipython3",
   "version": "3.10.10"
  }
 },
 "nbformat": 4,
 "nbformat_minor": 5
}
